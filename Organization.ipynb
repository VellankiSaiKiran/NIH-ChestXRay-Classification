{
 "cells": [
  {
   "cell_type": "code",
   "execution_count": 6,
   "id": "f477f712",
   "metadata": {},
   "outputs": [],
   "source": [
    "import os\n",
    "from pathlib import Path\n",
    "import pandas as pd"
   ]
  },
  {
   "cell_type": "code",
   "execution_count": 2,
   "id": "eca8ee35",
   "metadata": {},
   "outputs": [],
   "source": [
    "# import zipfile\n",
    "# import os\n",
    "\n",
    "# # Replace 'your_zip_file.zip' with the path to your zip file\n",
    "# zip_file_path = '/Users/saikiranreddyvellanki/Documents/CapstoneProject/TrainTestVal.zip'\n",
    "\n",
    "# # Replace 'extract_to_this_directory/' with the path where you want to extract the files\n",
    "# extract_to_path = '/Users/saikiranreddyvellanki/Documents/CapstoneProject/'\n",
    "\n",
    "# # Create the directory if it does not exist\n",
    "# if not os.path.exists(extract_to_path):\n",
    "#     os.makedirs(extract_to_path)\n",
    "\n",
    "# # Open the zip file in read mode\n",
    "# with zipfile.ZipFile(zip_file_path, 'r') as zip_ref:\n",
    "#     # Extract all the contents into the directory\n",
    "#     zip_ref.extractall(extract_to_path)\n",
    "\n",
    "# print(f\"Files extracted to {extract_to_path}\")\n"
   ]
  },
  {
   "cell_type": "code",
   "execution_count": 2,
   "id": "c1d81125",
   "metadata": {},
   "outputs": [
    {
     "name": "stdout",
     "output_type": "stream",
     "text": [
      "Files moved and folders deleted.\n"
     ]
    }
   ],
   "source": [
    "import os\n",
    "import shutil\n",
    "\n",
    "# Set the path to the 'test' folder\n",
    "train_folder_path = '/Users/saikiranreddyvellanki/Documents/CapstoneProject/Images/Train'\n",
    "\n",
    "# List all the subdirectories in the 'test' folder\n",
    "subdirectories = [d for d in os.listdir(train_folder_path) if os.path.isdir(os.path.join(train_folder_path, d))]\n",
    "\n",
    "# Loop through all the subdirectories\n",
    "for subdir in subdirectories:\n",
    "    subdir_path = os.path.join(train_folder_path, subdir)\n",
    "    # List all files in the subdirectory\n",
    "    files = os.listdir(subdir_path)\n",
    "    \n",
    "    # Move each file to the 'test' folder\n",
    "    for file in files:\n",
    "        # Construct the full file path\n",
    "        file_path = os.path.join(subdir_path, file)\n",
    "        # Construct the destination path\n",
    "        destination = os.path.join(train_folder_path, file)\n",
    "        # Move the file\n",
    "        shutil.move(file_path, destination)\n",
    "\n",
    "    # Remove the subdirectory after moving all files\n",
    "    os.rmdir(subdir_path)\n",
    "\n",
    "print(\"Files moved and folders deleted.\")"
   ]
  },
  {
   "cell_type": "code",
   "execution_count": 3,
   "id": "0dd159a7",
   "metadata": {},
   "outputs": [
    {
     "name": "stdout",
     "output_type": "stream",
     "text": [
      "Files moved and folders deleted.\n"
     ]
    }
   ],
   "source": [
    "import os\n",
    "import shutil\n",
    "\n",
    "# Set the path to the 'test' folder\n",
    "test_folder_path = '/Users/saikiranreddyvellanki/Documents/CapstoneProject/Images/Test'\n",
    "\n",
    "# List all the subdirectories in the 'test' folder\n",
    "subdirectories = [d for d in os.listdir(test_folder_path) if os.path.isdir(os.path.join(test_folder_path, d))]\n",
    "\n",
    "# Loop through all the subdirectories\n",
    "for subdir in subdirectories:\n",
    "    subdir_path = os.path.join(test_folder_path, subdir)\n",
    "    # List all files in the subdirectory\n",
    "    files = os.listdir(subdir_path)\n",
    "    \n",
    "    # Move each file to the 'test' folder\n",
    "    for file in files:\n",
    "        # Construct the full file path\n",
    "        file_path = os.path.join(subdir_path, file)\n",
    "        # Construct the destination path\n",
    "        destination = os.path.join(test_folder_path, file)\n",
    "        # Move the file\n",
    "        shutil.move(file_path, destination)\n",
    "\n",
    "    # Remove the subdirectory after moving all files\n",
    "    os.rmdir(subdir_path)\n",
    "\n",
    "print(\"Files moved and folders deleted.\")\n"
   ]
  },
  {
   "cell_type": "code",
   "execution_count": 4,
   "id": "7265af4c",
   "metadata": {},
   "outputs": [
    {
     "name": "stdout",
     "output_type": "stream",
     "text": [
      "Files moved and folders deleted.\n"
     ]
    }
   ],
   "source": [
    "import os\n",
    "import shutil\n",
    "\n",
    "# Set the path to the 'test' folder\n",
    "val_folder_path = '/Users/saikiranreddyvellanki/Documents/CapstoneProject/Images/Validation'\n",
    "\n",
    "# List all the subdirectories in the 'test' folder\n",
    "subdirectories = [d for d in os.listdir(val_folder_path) if os.path.isdir(os.path.join(val_folder_path, d))]\n",
    "\n",
    "# Loop through all the subdirectories\n",
    "for subdir in subdirectories:\n",
    "    subdir_path = os.path.join(val_folder_path, subdir)\n",
    "    # List all files in the subdirectory\n",
    "    files = os.listdir(subdir_path)\n",
    "    \n",
    "    # Move each file to the 'test' folder\n",
    "    for file in files:\n",
    "        # Construct the full file path\n",
    "        file_path = os.path.join(subdir_path, file)\n",
    "        # Construct the destination path\n",
    "        destination = os.path.join(val_folder_path, file)\n",
    "        # Move the file\n",
    "        shutil.move(file_path, destination)\n",
    "\n",
    "    # Remove the subdirectory after moving all files\n",
    "    os.rmdir(subdir_path)\n",
    "\n",
    "print(\"Files moved and folders deleted.\")"
   ]
  },
  {
   "cell_type": "code",
   "execution_count": 7,
   "id": "5898fd83",
   "metadata": {},
   "outputs": [],
   "source": [
    "# Load the Excel files into Pandas DataFrames\n",
    "test_df = pd.read_excel('/Users/saikiranreddyvellanki/Documents/CapstoneProject/test.xlsx')\n",
    "train_df = pd.read_excel('/Users/saikiranreddyvellanki/Documents/CapstoneProject/train.xlsx')\n",
    "validation_df = pd.read_excel('/Users/saikiranreddyvellanki/Documents/CapstoneProject/validation.xlsx')"
   ]
  },
  {
   "cell_type": "code",
   "execution_count": null,
   "id": "171bb623",
   "metadata": {},
   "outputs": [],
   "source": []
  },
  {
   "cell_type": "code",
   "execution_count": 11,
   "id": "b737dd98",
   "metadata": {},
   "outputs": [
    {
     "data": {
      "text/plain": [
       "Pneumothorax_test          2000\n",
       "Consolidation_test         2000\n",
       "Effusion_test              2000\n",
       "Mass_test                  2000\n",
       "Atelectasis_test           2000\n",
       "Infiltration_test          2000\n",
       "Pleural Thickening_test    2000\n",
       "Nodule_test                2000\n",
       "No Finding_test            2000\n",
       "Cardiomegaly_test          2000\n",
       "Name: class, dtype: int64"
      ]
     },
     "execution_count": 11,
     "metadata": {},
     "output_type": "execute_result"
    }
   ],
   "source": [
    "test_df['class'].value_counts()"
   ]
  },
  {
   "cell_type": "code",
   "execution_count": 13,
   "id": "d8e1627b",
   "metadata": {},
   "outputs": [
    {
     "name": "stdout",
     "output_type": "stream",
     "text": [
      "Missing Test Images: set()\n",
      "Missing Train Images: set()\n",
      "Missing Validation Images: set()\n"
     ]
    }
   ],
   "source": [
    "import pandas as pd\n",
    "import os\n",
    "import pandas as pd\n",
    "\n",
    "# Function to check if the files listed in excel exist in the folder\n",
    "def check_images_exist(image_filenames, folder_path):\n",
    "    # Get the list of all files in the folder\n",
    "    actual_files = set(os.listdir(folder_path))\n",
    "    # Set of filenames from the excel\n",
    "    expected_files = set(image_filenames)\n",
    "    # Check the difference\n",
    "    missing_files = expected_files - actual_files\n",
    "    # Return missing files\n",
    "    return missing_files\n",
    "\n",
    "# Extract the image file names from the 'image' column of the DataFrames\n",
    "test_images = test_df['image'].tolist()\n",
    "train_images = train_df['image'].tolist()\n",
    "validation_images = validation_df['image'].tolist()\n",
    "\n",
    "\n",
    "# Check each set of images\n",
    "missing_test_images = check_images_exist(test_images, test_folder_path)\n",
    "missing_train_images = check_images_exist(train_images, train_folder_path)\n",
    "missing_validation_images = check_images_exist(validation_images, val_folder_path)\n",
    "\n",
    "# Report the missing files\n",
    "print(\"Missing Test Images:\", missing_test_images)\n",
    "print(\"Missing Train Images:\", missing_train_images)\n",
    "print(\"Missing Validation Images:\", missing_validation_images)\n",
    "\n"
   ]
  },
  {
   "cell_type": "code",
   "execution_count": null,
   "id": "bf172ea8",
   "metadata": {},
   "outputs": [],
   "source": []
  },
  {
   "cell_type": "code",
   "execution_count": null,
   "id": "f4a43463",
   "metadata": {},
   "outputs": [],
   "source": []
  },
  {
   "cell_type": "code",
   "execution_count": 15,
   "id": "3fb54124",
   "metadata": {},
   "outputs": [],
   "source": [
    "\n",
    "# # Value to check\n",
    "# value_to_check = '00018645_000' \n",
    "\n",
    "# # Check if the value is in the list\n",
    "# if value_to_check in validation_images:\n",
    "#     print(f\"{value_to_check} is in the list.\")\n",
    "# else:\n",
    "#     print(f\"{value_to_check} is not in the list.\")"
   ]
  },
  {
   "cell_type": "code",
   "execution_count": null,
   "id": "f4231898",
   "metadata": {},
   "outputs": [],
   "source": []
  },
  {
   "cell_type": "code",
   "execution_count": null,
   "id": "8dbc8023",
   "metadata": {},
   "outputs": [],
   "source": []
  }
 ],
 "metadata": {
  "kernelspec": {
   "display_name": "Python 3 (ipykernel)",
   "language": "python",
   "name": "python3"
  },
  "language_info": {
   "codemirror_mode": {
    "name": "ipython",
    "version": 3
   },
   "file_extension": ".py",
   "mimetype": "text/x-python",
   "name": "python",
   "nbconvert_exporter": "python",
   "pygments_lexer": "ipython3",
   "version": "3.9.13"
  }
 },
 "nbformat": 4,
 "nbformat_minor": 5
}
